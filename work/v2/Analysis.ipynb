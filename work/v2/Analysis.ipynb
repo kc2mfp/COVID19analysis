{
 "cells": [
  {
   "cell_type": "markdown",
   "metadata": {},
   "source": [
    "# Analysing Ohio's Cases as a Whole"
   ]
  },
  {
   "cell_type": "code",
   "execution_count": 2,
   "metadata": {
    "scrolled": false
   },
   "outputs": [
    {
     "ename": "KeyError",
     "evalue": "'Confirmed Cases'",
     "output_type": "error",
     "traceback": [
      "\u001b[0;31m---------------------------------------------------------------------------\u001b[0m",
      "\u001b[0;31mKeyError\u001b[0m                                  Traceback (most recent call last)",
      "\u001b[0;32m/opt/conda/lib/python3.7/site-packages/pandas/core/indexes/base.py\u001b[0m in \u001b[0;36mget_loc\u001b[0;34m(self, key, method, tolerance)\u001b[0m\n\u001b[1;32m   2896\u001b[0m             \u001b[0;32mtry\u001b[0m\u001b[0;34m:\u001b[0m\u001b[0;34m\u001b[0m\u001b[0;34m\u001b[0m\u001b[0m\n\u001b[0;32m-> 2897\u001b[0;31m                 \u001b[0;32mreturn\u001b[0m \u001b[0mself\u001b[0m\u001b[0;34m.\u001b[0m\u001b[0m_engine\u001b[0m\u001b[0;34m.\u001b[0m\u001b[0mget_loc\u001b[0m\u001b[0;34m(\u001b[0m\u001b[0mkey\u001b[0m\u001b[0;34m)\u001b[0m\u001b[0;34m\u001b[0m\u001b[0;34m\u001b[0m\u001b[0m\n\u001b[0m\u001b[1;32m   2898\u001b[0m             \u001b[0;32mexcept\u001b[0m \u001b[0mKeyError\u001b[0m\u001b[0;34m:\u001b[0m\u001b[0;34m\u001b[0m\u001b[0;34m\u001b[0m\u001b[0m\n",
      "\u001b[0;32mpandas/_libs/index.pyx\u001b[0m in \u001b[0;36mpandas._libs.index.IndexEngine.get_loc\u001b[0;34m()\u001b[0m\n",
      "\u001b[0;32mpandas/_libs/index.pyx\u001b[0m in \u001b[0;36mpandas._libs.index.IndexEngine.get_loc\u001b[0;34m()\u001b[0m\n",
      "\u001b[0;32mpandas/_libs/hashtable_class_helper.pxi\u001b[0m in \u001b[0;36mpandas._libs.hashtable.PyObjectHashTable.get_item\u001b[0;34m()\u001b[0m\n",
      "\u001b[0;32mpandas/_libs/hashtable_class_helper.pxi\u001b[0m in \u001b[0;36mpandas._libs.hashtable.PyObjectHashTable.get_item\u001b[0;34m()\u001b[0m\n",
      "\u001b[0;31mKeyError\u001b[0m: 'Confirmed Cases'",
      "\nDuring handling of the above exception, another exception occurred:\n",
      "\u001b[0;31mKeyError\u001b[0m                                  Traceback (most recent call last)",
      "\u001b[0;32m<ipython-input-2-0a2e8b53cbe7>\u001b[0m in \u001b[0;36m<module>\u001b[0;34m\u001b[0m\n\u001b[1;32m     22\u001b[0m \u001b[0;34m\u001b[0m\u001b[0m\n\u001b[1;32m     23\u001b[0m \u001b[0;31m#making exponential fit\u001b[0m\u001b[0;34m\u001b[0m\u001b[0;34m\u001b[0m\u001b[0;34m\u001b[0m\u001b[0m\n\u001b[0;32m---> 24\u001b[0;31m \u001b[0mexpfit\u001b[0m\u001b[0;34m=\u001b[0m\u001b[0mnp\u001b[0m\u001b[0;34m.\u001b[0m\u001b[0mpolyfit\u001b[0m\u001b[0;34m(\u001b[0m\u001b[0mdset\u001b[0m\u001b[0;34m.\u001b[0m\u001b[0mDays\u001b[0m\u001b[0;34m[\u001b[0m\u001b[0;36m4\u001b[0m\u001b[0;34m:\u001b[0m\u001b[0;34m]\u001b[0m\u001b[0;34m,\u001b[0m\u001b[0mnp\u001b[0m\u001b[0;34m.\u001b[0m\u001b[0mlog\u001b[0m\u001b[0;34m(\u001b[0m\u001b[0mdset\u001b[0m\u001b[0;34m[\u001b[0m\u001b[0;34m'Confirmed Cases'\u001b[0m\u001b[0;34m]\u001b[0m\u001b[0;34m[\u001b[0m\u001b[0;36m4\u001b[0m\u001b[0;34m:\u001b[0m\u001b[0;34m]\u001b[0m\u001b[0;34m)\u001b[0m\u001b[0;34m,\u001b[0m\u001b[0;36m1\u001b[0m\u001b[0;34m)\u001b[0m\u001b[0;34m\u001b[0m\u001b[0;34m\u001b[0m\u001b[0m\n\u001b[0m\u001b[1;32m     25\u001b[0m \u001b[0mx_expfit\u001b[0m\u001b[0;34m=\u001b[0m\u001b[0mnp\u001b[0m\u001b[0;34m.\u001b[0m\u001b[0mlinspace\u001b[0m\u001b[0;34m(\u001b[0m\u001b[0;36m0\u001b[0m\u001b[0;34m,\u001b[0m\u001b[0mdset\u001b[0m\u001b[0;34m.\u001b[0m\u001b[0mDays\u001b[0m\u001b[0;34m.\u001b[0m\u001b[0mindex\u001b[0m\u001b[0;34m[\u001b[0m\u001b[0;34m-\u001b[0m\u001b[0;36m1\u001b[0m\u001b[0;34m]\u001b[0m\u001b[0;34m+\u001b[0m\u001b[0;36m3\u001b[0m\u001b[0;34m,\u001b[0m\u001b[0mdset\u001b[0m\u001b[0;34m.\u001b[0m\u001b[0mDays\u001b[0m\u001b[0;34m.\u001b[0m\u001b[0mindex\u001b[0m\u001b[0;34m[\u001b[0m\u001b[0;34m-\u001b[0m\u001b[0;36m1\u001b[0m\u001b[0;34m]\u001b[0m\u001b[0;34m+\u001b[0m\u001b[0;36m3\u001b[0m\u001b[0;34m+\u001b[0m\u001b[0;36m1\u001b[0m\u001b[0;34m)\u001b[0m\u001b[0;34m\u001b[0m\u001b[0;34m\u001b[0m\u001b[0m\n\u001b[1;32m     26\u001b[0m \u001b[0my_expfit\u001b[0m\u001b[0;34m=\u001b[0m\u001b[0mnp\u001b[0m\u001b[0;34m.\u001b[0m\u001b[0mexp\u001b[0m\u001b[0;34m(\u001b[0m\u001b[0mexpfit\u001b[0m\u001b[0;34m[\u001b[0m\u001b[0;36m1\u001b[0m\u001b[0;34m]\u001b[0m\u001b[0;34m)\u001b[0m\u001b[0;34m*\u001b[0m\u001b[0mnp\u001b[0m\u001b[0;34m.\u001b[0m\u001b[0mexp\u001b[0m\u001b[0;34m(\u001b[0m\u001b[0mexpfit\u001b[0m\u001b[0;34m[\u001b[0m\u001b[0;36m0\u001b[0m\u001b[0;34m]\u001b[0m\u001b[0;34m*\u001b[0m\u001b[0mx_expfit\u001b[0m\u001b[0;34m)\u001b[0m\u001b[0;34m\u001b[0m\u001b[0;34m\u001b[0m\u001b[0m\n",
      "\u001b[0;32m/opt/conda/lib/python3.7/site-packages/pandas/core/frame.py\u001b[0m in \u001b[0;36m__getitem__\u001b[0;34m(self, key)\u001b[0m\n\u001b[1;32m   2993\u001b[0m             \u001b[0;32mif\u001b[0m \u001b[0mself\u001b[0m\u001b[0;34m.\u001b[0m\u001b[0mcolumns\u001b[0m\u001b[0;34m.\u001b[0m\u001b[0mnlevels\u001b[0m \u001b[0;34m>\u001b[0m \u001b[0;36m1\u001b[0m\u001b[0;34m:\u001b[0m\u001b[0;34m\u001b[0m\u001b[0;34m\u001b[0m\u001b[0m\n\u001b[1;32m   2994\u001b[0m                 \u001b[0;32mreturn\u001b[0m \u001b[0mself\u001b[0m\u001b[0;34m.\u001b[0m\u001b[0m_getitem_multilevel\u001b[0m\u001b[0;34m(\u001b[0m\u001b[0mkey\u001b[0m\u001b[0;34m)\u001b[0m\u001b[0;34m\u001b[0m\u001b[0;34m\u001b[0m\u001b[0m\n\u001b[0;32m-> 2995\u001b[0;31m             \u001b[0mindexer\u001b[0m \u001b[0;34m=\u001b[0m \u001b[0mself\u001b[0m\u001b[0;34m.\u001b[0m\u001b[0mcolumns\u001b[0m\u001b[0;34m.\u001b[0m\u001b[0mget_loc\u001b[0m\u001b[0;34m(\u001b[0m\u001b[0mkey\u001b[0m\u001b[0;34m)\u001b[0m\u001b[0;34m\u001b[0m\u001b[0;34m\u001b[0m\u001b[0m\n\u001b[0m\u001b[1;32m   2996\u001b[0m             \u001b[0;32mif\u001b[0m \u001b[0mis_integer\u001b[0m\u001b[0;34m(\u001b[0m\u001b[0mindexer\u001b[0m\u001b[0;34m)\u001b[0m\u001b[0;34m:\u001b[0m\u001b[0;34m\u001b[0m\u001b[0;34m\u001b[0m\u001b[0m\n\u001b[1;32m   2997\u001b[0m                 \u001b[0mindexer\u001b[0m \u001b[0;34m=\u001b[0m \u001b[0;34m[\u001b[0m\u001b[0mindexer\u001b[0m\u001b[0;34m]\u001b[0m\u001b[0;34m\u001b[0m\u001b[0;34m\u001b[0m\u001b[0m\n",
      "\u001b[0;32m/opt/conda/lib/python3.7/site-packages/pandas/core/indexes/base.py\u001b[0m in \u001b[0;36mget_loc\u001b[0;34m(self, key, method, tolerance)\u001b[0m\n\u001b[1;32m   2897\u001b[0m                 \u001b[0;32mreturn\u001b[0m \u001b[0mself\u001b[0m\u001b[0;34m.\u001b[0m\u001b[0m_engine\u001b[0m\u001b[0;34m.\u001b[0m\u001b[0mget_loc\u001b[0m\u001b[0;34m(\u001b[0m\u001b[0mkey\u001b[0m\u001b[0;34m)\u001b[0m\u001b[0;34m\u001b[0m\u001b[0;34m\u001b[0m\u001b[0m\n\u001b[1;32m   2898\u001b[0m             \u001b[0;32mexcept\u001b[0m \u001b[0mKeyError\u001b[0m\u001b[0;34m:\u001b[0m\u001b[0;34m\u001b[0m\u001b[0;34m\u001b[0m\u001b[0m\n\u001b[0;32m-> 2899\u001b[0;31m                 \u001b[0;32mreturn\u001b[0m \u001b[0mself\u001b[0m\u001b[0;34m.\u001b[0m\u001b[0m_engine\u001b[0m\u001b[0;34m.\u001b[0m\u001b[0mget_loc\u001b[0m\u001b[0;34m(\u001b[0m\u001b[0mself\u001b[0m\u001b[0;34m.\u001b[0m\u001b[0m_maybe_cast_indexer\u001b[0m\u001b[0;34m(\u001b[0m\u001b[0mkey\u001b[0m\u001b[0;34m)\u001b[0m\u001b[0;34m)\u001b[0m\u001b[0;34m\u001b[0m\u001b[0;34m\u001b[0m\u001b[0m\n\u001b[0m\u001b[1;32m   2900\u001b[0m         \u001b[0mindexer\u001b[0m \u001b[0;34m=\u001b[0m \u001b[0mself\u001b[0m\u001b[0;34m.\u001b[0m\u001b[0mget_indexer\u001b[0m\u001b[0;34m(\u001b[0m\u001b[0;34m[\u001b[0m\u001b[0mkey\u001b[0m\u001b[0;34m]\u001b[0m\u001b[0;34m,\u001b[0m \u001b[0mmethod\u001b[0m\u001b[0;34m=\u001b[0m\u001b[0mmethod\u001b[0m\u001b[0;34m,\u001b[0m \u001b[0mtolerance\u001b[0m\u001b[0;34m=\u001b[0m\u001b[0mtolerance\u001b[0m\u001b[0;34m)\u001b[0m\u001b[0;34m\u001b[0m\u001b[0;34m\u001b[0m\u001b[0m\n\u001b[1;32m   2901\u001b[0m         \u001b[0;32mif\u001b[0m \u001b[0mindexer\u001b[0m\u001b[0;34m.\u001b[0m\u001b[0mndim\u001b[0m \u001b[0;34m>\u001b[0m \u001b[0;36m1\u001b[0m \u001b[0;32mor\u001b[0m \u001b[0mindexer\u001b[0m\u001b[0;34m.\u001b[0m\u001b[0msize\u001b[0m \u001b[0;34m>\u001b[0m \u001b[0;36m1\u001b[0m\u001b[0;34m:\u001b[0m\u001b[0;34m\u001b[0m\u001b[0;34m\u001b[0m\u001b[0m\n",
      "\u001b[0;32mpandas/_libs/index.pyx\u001b[0m in \u001b[0;36mpandas._libs.index.IndexEngine.get_loc\u001b[0;34m()\u001b[0m\n",
      "\u001b[0;32mpandas/_libs/index.pyx\u001b[0m in \u001b[0;36mpandas._libs.index.IndexEngine.get_loc\u001b[0;34m()\u001b[0m\n",
      "\u001b[0;32mpandas/_libs/hashtable_class_helper.pxi\u001b[0m in \u001b[0;36mpandas._libs.hashtable.PyObjectHashTable.get_item\u001b[0;34m()\u001b[0m\n",
      "\u001b[0;32mpandas/_libs/hashtable_class_helper.pxi\u001b[0m in \u001b[0;36mpandas._libs.hashtable.PyObjectHashTable.get_item\u001b[0;34m()\u001b[0m\n",
      "\u001b[0;31mKeyError\u001b[0m: 'Confirmed Cases'"
     ]
    }
   ],
   "source": [
    "# -*- coding: utf-8 -*-\n",
    "\"\"\"\n",
    "Created on Wed Mar  4 18:13:02 2020\n",
    "\n",
    "@author: 210069501\n",
    "\"\"\"\n",
    "\n",
    "import pandas as pd\n",
    "import numpy as np\n",
    "#import matplotlib.pyplot as plt\n",
    "import bokeh.plotting as plt\n",
    "from bokeh.layouts import column\n",
    "from bokeh.io import output_notebook\n",
    "\n",
    "#read in data\n",
    "################################\n",
    "dset=pd.read_excel('Coronus-Trends_v2.xlsx')\n",
    "\n",
    "\n",
    "#Fitting Data\n",
    "################################\n",
    "\n",
    "#making exponential fit\n",
    "expfit=np.polyfit(dset.Days[4:],np.log(dset['Confirmed Cases'][4:]),1)\n",
    "x_expfit=np.linspace(0,dset.Days.index[-1]+3,dset.Days.index[-1]+3+1)\n",
    "y_expfit=np.exp(expfit[1])*np.exp(expfit[0]*x_expfit)\n",
    "\n",
    "# Linear fit last three points\n",
    "linfit=np.polyfit(dset.Days[-3:],dset['Confirmed Cases'][-3:],1)\n",
    "xlin=x_expfit\n",
    "ylin=linfit[0]*xlin+linfit[1]\n",
    "\n",
    "\n",
    "\n",
    "\n",
    "#####################################\n",
    "############plotting data############\n",
    "#####################################\n",
    "\n",
    "\n",
    "#Plot 1 data trends\n",
    "#####################################\n",
    "\n",
    "#outfile\n",
    "plt.output_file(\"Coronus_Trend.html\")\n",
    "\n",
    "#setting up figure\n",
    "TOOLTIPS = [\n",
    "    (\"index\", \"$index\"),\n",
    "    (\"(x,y)\", \"($x, $y)\"),\n",
    "]\n",
    "\n",
    "p=plt.figure(plot_width=700, plot_height=400, y_range=(0,10000),\n",
    "             background_fill_color=\"beige\",tooltips=TOOLTIPS)\n",
    "\n",
    "#plotting data points\n",
    "p.circle(dset.Days,dset.Total_Ohio,size=20, color=\"navy\",alpha=0.5)\n",
    "p.circle(dset.Days[:4],dset.Total_Ohio[:4],size=20, color=\"lightgray\",alpha=0.5,legend_label='COVID19 Cases')\n",
    "p.circle(dset.Days,dset.Hospital,size=10,color='green',legend_label='Hospitalization')\n",
    "p.circle(dset.Days,dset.Deaths,size=10,color='red',legend_label='Deaths')\n",
    "#Plotting exponential fit\n",
    "p.line(x_expfit,y_expfit,line_width=1, color='black',legend_label='Exp Fit')\n",
    "\n",
    "#plotting last three point linear fit\n",
    "p.line(xlin,ylin,line_width=1,color='green',legend_label='Last 3 lin Fit')\n",
    "\n",
    "p.yaxis.axis_label=\"Confirmed Infected Count\"\n",
    "p.xaxis.axis_label=\"Number of Days\"\n",
    "p.title.text=\"Total Infected Count vs Days:    Prediction Tomorrow: \"+str(y_expfit[-3])\n",
    "p.title.align=\"center\"\n",
    "p.legend.location=\"top_left\"\n",
    "\n",
    "#Plot2 Consecutive Slope Plot\n",
    "#########################################\n",
    "slope=np.diff(dset.Total_Ohio)/np.diff(dset.Days)\n",
    "\n",
    "p2=plt.figure(plot_width=700, plot_height=400, background_fill_color=\"beige\",tooltips=TOOLTIPS)\n",
    "p2.circle(dset.Days[1:],slope,size=20, color='navy')\n",
    "p2.yaxis.axis_label=\"Rate of Infection (diff(infect count)/diff(days))\"\n",
    "p2.xaxis.axis_label=\"Number of Days\"\n",
    "p2.title.text=\"Total Addition Infected by Day\"\n",
    "p2.title.align=\"center\"\n",
    "\n",
    "#Plot3 Hospitalization Count\n",
    "###########################################\n",
    "p3=plt.figure(plot_width=700, plot_height=400, background_fill_color=\"beige\",tooltips=TOOLTIPS)\n",
    "p3.circle(dset.Days,dset.Hospital,size=20, color='navy')\n",
    "p3.yaxis.axis_label=\"Number of Hospitalizations\"\n",
    "p3.xaxis.axis_label=\"Number of Days\"\n",
    "p3.title.text=\"Total Hospitalizations\"\n",
    "p3.title.align=\"center\"\n",
    "\n",
    "#Plot4 Ratio of nfected to Hospitalized\n",
    "############################################\n",
    "p4=plt.figure(plot_width=700, plot_height=400, background_fill_color=\"beige\",y_range=(0,1),tooltips=TOOLTIPS)\n",
    "p4.circle(dset.Days,dset.Hospital/dset.Total_Ohio,size=20, color='navy')\n",
    "p4.yaxis.axis_label=\"Hospitalization Ratio (Hosp/total)\"\n",
    "p4.xaxis.axis_label=\"Number of Days\"\n",
    "p4.title.text=\"Ratio of Hospitalizations vs Infected\"\n",
    "p4.title.align=\"center\"\n",
    "\n",
    "#Plot5 Percent infected in Ohio by Population\n",
    "#############################################\n",
    "population=11536504\n",
    "p5=plt.figure(plot_width=700, plot_height=400, background_fill_color=\"beige\",tooltips=TOOLTIPS)\n",
    "p5.circle(dset.Days,dset.Total_Ohio/population*100,size=20, color='navy')\n",
    "p5.yaxis.axis_label=\"% Infected in Ohio\"\n",
    "p5.xaxis.axis_label=\"Number of Days\"\n",
    "p5.title.text=\"Total % of Ohio Residents Infected\"\n",
    "p5.title.align=\"center\"\n",
    "\n",
    "#Plot6 Death Rate ratio dead/infected\n",
    "# p6=plt.figure(plot_width=700, plot_height=400, background_fill_color=\"beige\",tooltips=TOOLTIPS)\n",
    "# p6.circle(dset.Days,dset.Deaths/dset.Total_Ohio,size=20, color='navy')\n",
    "# p6.yaxis.axis_label=\"% Infected in Ohio\"\n",
    "# p6.xaxis.axis_label=\"Number of Days\"\n",
    "# p6.title.text=\"Total % of Ohio Residents Infected\"\n",
    "# p6.title.align=\"center\"\n",
    "\n",
    "output_file(\"COVID19.html\")\n",
    "output_notebook()\n",
    "plt.show(column(p,p3,p4,p2,p5))\n"
   ]
  },
  {
   "cell_type": "markdown",
   "metadata": {},
   "source": [
    "# Comparison to NY"
   ]
  },
  {
   "cell_type": "code",
   "execution_count": 40,
   "metadata": {},
   "outputs": [
    {
     "data": {
      "text/html": [
       "\n",
       "\n",
       "\n",
       "\n",
       "\n",
       "\n",
       "  <div class=\"bk-root\" id=\"5988010c-5900-474a-9b66-84fa7f923984\" data-root-id=\"76830\"></div>\n"
      ]
     },
     "metadata": {},
     "output_type": "display_data"
    },
    {
     "data": {
      "application/javascript": [
       "(function(root) {\n",
       "  function embed_document(root) {\n",
       "    \n",
       "  var docs_json = {\"f3c23cff-68ca-44a7-b800-aace79064ac3\":{\"roots\":{\"references\":[{\"attributes\":{\"background_fill_color\":{\"value\":\"beige\"},\"below\":[{\"id\":\"76839\",\"type\":\"LinearAxis\"}],\"center\":[{\"id\":\"76843\",\"type\":\"Grid\"},{\"id\":\"76848\",\"type\":\"Grid\"},{\"id\":\"76876\",\"type\":\"Legend\"}],\"left\":[{\"id\":\"76844\",\"type\":\"LinearAxis\"}],\"plot_height\":400,\"plot_width\":700,\"renderers\":[{\"id\":\"76867\",\"type\":\"GlyphRenderer\"},{\"id\":\"76881\",\"type\":\"GlyphRenderer\"}],\"title\":{\"id\":\"76870\",\"type\":\"Title\"},\"toolbar\":{\"id\":\"76856\",\"type\":\"Toolbar\"},\"x_range\":{\"id\":\"76831\",\"type\":\"DataRange1d\"},\"x_scale\":{\"id\":\"76835\",\"type\":\"LinearScale\"},\"y_range\":{\"id\":\"76833\",\"type\":\"DataRange1d\"},\"y_scale\":{\"id\":\"76837\",\"type\":\"LinearScale\"}},\"id\":\"76830\",\"subtype\":\"Figure\",\"type\":\"Plot\"},{\"attributes\":{\"dimension\":1,\"ticker\":{\"id\":\"76845\",\"type\":\"BasicTicker\"}},\"id\":\"76848\",\"type\":\"Grid\"},{\"attributes\":{},\"id\":\"76850\",\"type\":\"WheelZoomTool\"},{\"attributes\":{\"data_source\":{\"id\":\"76864\",\"type\":\"ColumnDataSource\"},\"glyph\":{\"id\":\"76865\",\"type\":\"Circle\"},\"hover_glyph\":null,\"muted_glyph\":null,\"nonselection_glyph\":{\"id\":\"76866\",\"type\":\"Circle\"},\"selection_glyph\":null,\"view\":{\"id\":\"76868\",\"type\":\"CDSView\"}},\"id\":\"76867\",\"type\":\"GlyphRenderer\"},{\"attributes\":{\"fill_alpha\":{\"value\":0.1},\"fill_color\":{\"value\":\"#1f77b4\"},\"line_alpha\":{\"value\":0.1},\"line_color\":{\"value\":\"#1f77b4\"},\"size\":{\"units\":\"screen\",\"value\":10},\"x\":{\"field\":\"x\"},\"y\":{\"field\":\"y\"}},\"id\":\"76880\",\"type\":\"Circle\"},{\"attributes\":{},\"id\":\"76837\",\"type\":\"LinearScale\"},{\"attributes\":{},\"id\":\"76871\",\"type\":\"BasicTickFormatter\"},{\"attributes\":{\"overlay\":{\"id\":\"76875\",\"type\":\"BoxAnnotation\"}},\"id\":\"76851\",\"type\":\"BoxZoomTool\"},{\"attributes\":{},\"id\":\"76891\",\"type\":\"Selection\"},{\"attributes\":{\"bottom_units\":\"screen\",\"fill_alpha\":{\"value\":0.5},\"fill_color\":{\"value\":\"lightgrey\"},\"left_units\":\"screen\",\"level\":\"overlay\",\"line_alpha\":{\"value\":1.0},\"line_color\":{\"value\":\"black\"},\"line_dash\":[4,4],\"line_width\":{\"value\":2},\"render_mode\":\"css\",\"right_units\":\"screen\",\"top_units\":\"screen\"},\"id\":\"76875\",\"type\":\"BoxAnnotation\"},{\"attributes\":{\"callback\":null},\"id\":\"76831\",\"type\":\"DataRange1d\"},{\"attributes\":{},\"id\":\"76873\",\"type\":\"BasicTickFormatter\"},{\"attributes\":{\"fill_color\":{\"value\":\"green\"},\"line_color\":{\"value\":\"green\"},\"size\":{\"units\":\"screen\",\"value\":10},\"x\":{\"field\":\"x\"},\"y\":{\"field\":\"y\"}},\"id\":\"76879\",\"type\":\"Circle\"},{\"attributes\":{},\"id\":\"76852\",\"type\":\"SaveTool\"},{\"attributes\":{\"items\":[{\"id\":\"76877\",\"type\":\"LegendItem\"},{\"id\":\"76892\",\"type\":\"LegendItem\"}],\"location\":\"top_left\"},\"id\":\"76876\",\"type\":\"Legend\"},{\"attributes\":{\"callback\":null},\"id\":\"76833\",\"type\":\"DataRange1d\"},{\"attributes\":{},\"id\":\"78642\",\"type\":\"UnionRenderers\"},{\"attributes\":{},\"id\":\"76845\",\"type\":\"BasicTicker\"},{\"attributes\":{\"active_drag\":\"auto\",\"active_inspect\":\"auto\",\"active_multi\":null,\"active_scroll\":\"auto\",\"active_tap\":\"auto\",\"tools\":[{\"id\":\"76849\",\"type\":\"PanTool\"},{\"id\":\"76850\",\"type\":\"WheelZoomTool\"},{\"id\":\"76851\",\"type\":\"BoxZoomTool\"},{\"id\":\"76852\",\"type\":\"SaveTool\"},{\"id\":\"76853\",\"type\":\"ResetTool\"},{\"id\":\"76854\",\"type\":\"HelpTool\"},{\"id\":\"76855\",\"type\":\"HoverTool\"}]},\"id\":\"76856\",\"type\":\"Toolbar\"},{\"attributes\":{\"data_source\":{\"id\":\"76878\",\"type\":\"ColumnDataSource\"},\"glyph\":{\"id\":\"76879\",\"type\":\"Circle\"},\"hover_glyph\":null,\"muted_glyph\":null,\"nonselection_glyph\":{\"id\":\"76880\",\"type\":\"Circle\"},\"selection_glyph\":null,\"view\":{\"id\":\"76882\",\"type\":\"CDSView\"}},\"id\":\"76881\",\"type\":\"GlyphRenderer\"},{\"attributes\":{\"source\":{\"id\":\"76864\",\"type\":\"ColumnDataSource\"}},\"id\":\"76868\",\"type\":\"CDSView\"},{\"attributes\":{\"axis_label\":\"Number of Days\",\"formatter\":{\"id\":\"76873\",\"type\":\"BasicTickFormatter\"},\"ticker\":{\"id\":\"76840\",\"type\":\"BasicTicker\"}},\"id\":\"76839\",\"type\":\"LinearAxis\"},{\"attributes\":{},\"id\":\"76853\",\"type\":\"ResetTool\"},{\"attributes\":{},\"id\":\"76890\",\"type\":\"UnionRenderers\"},{\"attributes\":{\"callback\":null,\"tooltips\":[[\"index\",\"$index\"],[\"(x,y)\",\"($x, $y)\"]]},\"id\":\"76855\",\"type\":\"HoverTool\"},{\"attributes\":{\"label\":{\"value\":\"Total Ohio\"},\"renderers\":[{\"id\":\"76867\",\"type\":\"GlyphRenderer\"}]},\"id\":\"76877\",\"type\":\"LegendItem\"},{\"attributes\":{},\"id\":\"76835\",\"type\":\"LinearScale\"},{\"attributes\":{\"fill_color\":{\"value\":\"navy\"},\"line_color\":{\"value\":\"navy\"},\"size\":{\"units\":\"screen\",\"value\":10},\"x\":{\"field\":\"x\"},\"y\":{\"field\":\"y\"}},\"id\":\"76865\",\"type\":\"Circle\"},{\"attributes\":{\"callback\":null,\"data\":{\"x\":[0,1,2,3,4,5,6,7,8,9,10,11,12,13,14,15,16,17,18,19,20,21,22,23,24,25,26,27,28,29,30,31,32,33,34,35],\"y\":[0,1,1,5,20,36,50,67,88,119,169,247,351,442,564,704,867,1137,1406,1653,1933,2199,2547,2902,3312,3739,4043,4450,4782,5100,5512,6100,6518,6881,7200,7628]},\"selected\":{\"id\":\"76891\",\"type\":\"Selection\"},\"selection_policy\":{\"id\":\"76890\",\"type\":\"UnionRenderers\"}},\"id\":\"76864\",\"type\":\"ColumnDataSource\"},{\"attributes\":{\"fill_alpha\":{\"value\":0.1},\"fill_color\":{\"value\":\"#1f77b4\"},\"line_alpha\":{\"value\":0.1},\"line_color\":{\"value\":\"#1f77b4\"},\"size\":{\"units\":\"screen\",\"value\":10},\"x\":{\"field\":\"x\"},\"y\":{\"field\":\"y\"}},\"id\":\"76866\",\"type\":\"Circle\"},{\"attributes\":{},\"id\":\"78643\",\"type\":\"Selection\"},{\"attributes\":{\"label\":{\"value\":\"Total NY\"},\"renderers\":[{\"id\":\"76881\",\"type\":\"GlyphRenderer\"}]},\"id\":\"76892\",\"type\":\"LegendItem\"},{\"attributes\":{},\"id\":\"76849\",\"type\":\"PanTool\"},{\"attributes\":{},\"id\":\"76840\",\"type\":\"BasicTicker\"},{\"attributes\":{\"source\":{\"id\":\"76878\",\"type\":\"ColumnDataSource\"}},\"id\":\"76882\",\"type\":\"CDSView\"},{\"attributes\":{\"axis_label\":\"Rate of Infection (diff(infect count)/diff(days))\",\"formatter\":{\"id\":\"76871\",\"type\":\"BasicTickFormatter\"},\"ticker\":{\"id\":\"76845\",\"type\":\"BasicTicker\"}},\"id\":\"76844\",\"type\":\"LinearAxis\"},{\"attributes\":{\"align\":\"center\",\"text\":\"Total Addition Infected by Day\"},\"id\":\"76870\",\"type\":\"Title\"},{\"attributes\":{\"callback\":null,\"data\":{\"x\":[1,2,3,4,5,6,7,8,9,10,11,12,13,14,15,16,17,18,19,20],\"y\":[1,2,11,22,44,89,105,160,173,250,325,400,500,729,1000,1500,2392,4152,7162,10356]},\"selected\":{\"id\":\"78643\",\"type\":\"Selection\"},\"selection_policy\":{\"id\":\"78642\",\"type\":\"UnionRenderers\"}},\"id\":\"76878\",\"type\":\"ColumnDataSource\"},{\"attributes\":{\"ticker\":{\"id\":\"76840\",\"type\":\"BasicTicker\"}},\"id\":\"76843\",\"type\":\"Grid\"},{\"attributes\":{},\"id\":\"76854\",\"type\":\"HelpTool\"}],\"root_ids\":[\"76830\"]},\"title\":\"Bokeh Application\",\"version\":\"1.4.0\"}};\n",
       "  var render_items = [{\"docid\":\"f3c23cff-68ca-44a7-b800-aace79064ac3\",\"roots\":{\"76830\":\"5988010c-5900-474a-9b66-84fa7f923984\"}}];\n",
       "  root.Bokeh.embed.embed_items_notebook(docs_json, render_items);\n",
       "\n",
       "  }\n",
       "  if (root.Bokeh !== undefined) {\n",
       "    embed_document(root);\n",
       "  } else {\n",
       "    var attempts = 0;\n",
       "    var timer = setInterval(function(root) {\n",
       "      if (root.Bokeh !== undefined) {\n",
       "        clearInterval(timer);\n",
       "        embed_document(root);\n",
       "      } else {\n",
       "        attempts++;\n",
       "        if (attempts > 100) {\n",
       "          clearInterval(timer);\n",
       "          console.log(\"Bokeh: ERROR: Unable to run BokehJS code because BokehJS library is missing\");\n",
       "        }\n",
       "      }\n",
       "    }, 10, root)\n",
       "  }\n",
       "})(window);"
      ],
      "application/vnd.bokehjs_exec.v0+json": ""
     },
     "metadata": {
      "application/vnd.bokehjs_exec.v0+json": {
       "id": "76830"
      }
     },
     "output_type": "display_data"
    }
   ],
   "source": [
    "dset_ny=pd.read_excel('NY_Cases.xlsx')\n",
    "\n",
    "q=plt.figure(plot_width=700, plot_height=400, background_fill_color=\"beige\",tooltips=TOOLTIPS)\n",
    "q.circle(dset.Days,dset.Total_Ohio,size=10, color='navy',legend_label='Total Ohio')\n",
    "q.circle(dset_ny.Days,dset_ny.Total_NY,size=10, color='green',legend_label='Total NY')\n",
    "q.yaxis.axis_label=\"Rate of Infection (diff(infect count)/diff(days))\"\n",
    "q.xaxis.axis_label=\"Number of Days\"\n",
    "q.title.text=\"Total Addition Infected by Day\"\n",
    "q.title.align=\"center\"\n",
    "q.legend.location='top_left'\n",
    "plt.show(q)"
   ]
  },
  {
   "cell_type": "code",
   "execution_count": null,
   "metadata": {},
   "outputs": [],
   "source": []
  }
 ],
 "metadata": {
  "kernelspec": {
   "display_name": "Python 3",
   "language": "python",
   "name": "python3"
  },
  "language_info": {
   "codemirror_mode": {
    "name": "ipython",
    "version": 3
   },
   "file_extension": ".py",
   "mimetype": "text/x-python",
   "name": "python",
   "nbconvert_exporter": "python",
   "pygments_lexer": "ipython3",
   "version": "3.7.6"
  }
 },
 "nbformat": 4,
 "nbformat_minor": 4
}
